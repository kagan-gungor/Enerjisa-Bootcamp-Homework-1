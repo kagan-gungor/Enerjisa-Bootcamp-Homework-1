{
 "cells": [
  {
   "cell_type": "code",
   "execution_count": 1,
   "metadata": {},
   "outputs": [],
   "source": [
    "import numpy as np \n",
    "import pandas as pd\n",
    "import seaborn as sns\n",
    "import matplotlib.pyplot as plt"
   ]
  },
  {
   "cell_type": "markdown",
   "metadata": {},
   "source": [
    "# Keşif"
   ]
  },
  {
   "cell_type": "markdown",
   "metadata": {},
   "source": [
    "Soruları çözmeye başlamadan önce datasetin ne içerdiğini anlamak için küçük çaplı bir keşif yaptım."
   ]
  },
  {
   "cell_type": "code",
   "execution_count": 2,
   "metadata": {},
   "outputs": [],
   "source": [
    "data = pd.read_csv(\"data.csv\")"
   ]
  },
  {
   "cell_type": "code",
   "execution_count": 3,
   "metadata": {},
   "outputs": [
    {
     "data": {
      "text/html": [
       "<div>\n",
       "<style scoped>\n",
       "    .dataframe tbody tr th:only-of-type {\n",
       "        vertical-align: middle;\n",
       "    }\n",
       "\n",
       "    .dataframe tbody tr th {\n",
       "        vertical-align: top;\n",
       "    }\n",
       "\n",
       "    .dataframe thead th {\n",
       "        text-align: right;\n",
       "    }\n",
       "</style>\n",
       "<table border=\"1\" class=\"dataframe\">\n",
       "  <thead>\n",
       "    <tr style=\"text-align: right;\">\n",
       "      <th></th>\n",
       "      <th>id</th>\n",
       "      <th>diagnosis</th>\n",
       "      <th>radius_mean</th>\n",
       "      <th>texture_mean</th>\n",
       "      <th>perimeter_mean</th>\n",
       "      <th>area_mean</th>\n",
       "      <th>smoothness_mean</th>\n",
       "      <th>compactness_mean</th>\n",
       "      <th>concavity_mean</th>\n",
       "      <th>concave points_mean</th>\n",
       "      <th>...</th>\n",
       "      <th>texture_worst</th>\n",
       "      <th>perimeter_worst</th>\n",
       "      <th>area_worst</th>\n",
       "      <th>smoothness_worst</th>\n",
       "      <th>compactness_worst</th>\n",
       "      <th>concavity_worst</th>\n",
       "      <th>concave points_worst</th>\n",
       "      <th>symmetry_worst</th>\n",
       "      <th>fractal_dimension_worst</th>\n",
       "      <th>Unnamed: 32</th>\n",
       "    </tr>\n",
       "  </thead>\n",
       "  <tbody>\n",
       "    <tr>\n",
       "      <th>0</th>\n",
       "      <td>842302</td>\n",
       "      <td>M</td>\n",
       "      <td>17.99</td>\n",
       "      <td>10.38</td>\n",
       "      <td>122.80</td>\n",
       "      <td>1001.0</td>\n",
       "      <td>0.11840</td>\n",
       "      <td>0.27760</td>\n",
       "      <td>0.3001</td>\n",
       "      <td>0.14710</td>\n",
       "      <td>...</td>\n",
       "      <td>17.33</td>\n",
       "      <td>184.60</td>\n",
       "      <td>2019.0</td>\n",
       "      <td>0.1622</td>\n",
       "      <td>0.6656</td>\n",
       "      <td>0.7119</td>\n",
       "      <td>0.2654</td>\n",
       "      <td>0.4601</td>\n",
       "      <td>0.11890</td>\n",
       "      <td>NaN</td>\n",
       "    </tr>\n",
       "    <tr>\n",
       "      <th>1</th>\n",
       "      <td>842517</td>\n",
       "      <td>M</td>\n",
       "      <td>20.57</td>\n",
       "      <td>17.77</td>\n",
       "      <td>132.90</td>\n",
       "      <td>1326.0</td>\n",
       "      <td>0.08474</td>\n",
       "      <td>0.07864</td>\n",
       "      <td>0.0869</td>\n",
       "      <td>0.07017</td>\n",
       "      <td>...</td>\n",
       "      <td>23.41</td>\n",
       "      <td>158.80</td>\n",
       "      <td>1956.0</td>\n",
       "      <td>0.1238</td>\n",
       "      <td>0.1866</td>\n",
       "      <td>0.2416</td>\n",
       "      <td>0.1860</td>\n",
       "      <td>0.2750</td>\n",
       "      <td>0.08902</td>\n",
       "      <td>NaN</td>\n",
       "    </tr>\n",
       "    <tr>\n",
       "      <th>2</th>\n",
       "      <td>84300903</td>\n",
       "      <td>M</td>\n",
       "      <td>19.69</td>\n",
       "      <td>21.25</td>\n",
       "      <td>130.00</td>\n",
       "      <td>1203.0</td>\n",
       "      <td>0.10960</td>\n",
       "      <td>0.15990</td>\n",
       "      <td>0.1974</td>\n",
       "      <td>0.12790</td>\n",
       "      <td>...</td>\n",
       "      <td>25.53</td>\n",
       "      <td>152.50</td>\n",
       "      <td>1709.0</td>\n",
       "      <td>0.1444</td>\n",
       "      <td>0.4245</td>\n",
       "      <td>0.4504</td>\n",
       "      <td>0.2430</td>\n",
       "      <td>0.3613</td>\n",
       "      <td>0.08758</td>\n",
       "      <td>NaN</td>\n",
       "    </tr>\n",
       "    <tr>\n",
       "      <th>3</th>\n",
       "      <td>84348301</td>\n",
       "      <td>M</td>\n",
       "      <td>11.42</td>\n",
       "      <td>20.38</td>\n",
       "      <td>77.58</td>\n",
       "      <td>386.1</td>\n",
       "      <td>0.14250</td>\n",
       "      <td>0.28390</td>\n",
       "      <td>0.2414</td>\n",
       "      <td>0.10520</td>\n",
       "      <td>...</td>\n",
       "      <td>26.50</td>\n",
       "      <td>98.87</td>\n",
       "      <td>567.7</td>\n",
       "      <td>0.2098</td>\n",
       "      <td>0.8663</td>\n",
       "      <td>0.6869</td>\n",
       "      <td>0.2575</td>\n",
       "      <td>0.6638</td>\n",
       "      <td>0.17300</td>\n",
       "      <td>NaN</td>\n",
       "    </tr>\n",
       "    <tr>\n",
       "      <th>4</th>\n",
       "      <td>84358402</td>\n",
       "      <td>M</td>\n",
       "      <td>20.29</td>\n",
       "      <td>14.34</td>\n",
       "      <td>135.10</td>\n",
       "      <td>1297.0</td>\n",
       "      <td>0.10030</td>\n",
       "      <td>0.13280</td>\n",
       "      <td>0.1980</td>\n",
       "      <td>0.10430</td>\n",
       "      <td>...</td>\n",
       "      <td>16.67</td>\n",
       "      <td>152.20</td>\n",
       "      <td>1575.0</td>\n",
       "      <td>0.1374</td>\n",
       "      <td>0.2050</td>\n",
       "      <td>0.4000</td>\n",
       "      <td>0.1625</td>\n",
       "      <td>0.2364</td>\n",
       "      <td>0.07678</td>\n",
       "      <td>NaN</td>\n",
       "    </tr>\n",
       "  </tbody>\n",
       "</table>\n",
       "<p>5 rows × 33 columns</p>\n",
       "</div>"
      ],
      "text/plain": [
       "         id diagnosis  radius_mean  texture_mean  perimeter_mean  area_mean  \\\n",
       "0    842302         M        17.99         10.38          122.80     1001.0   \n",
       "1    842517         M        20.57         17.77          132.90     1326.0   \n",
       "2  84300903         M        19.69         21.25          130.00     1203.0   \n",
       "3  84348301         M        11.42         20.38           77.58      386.1   \n",
       "4  84358402         M        20.29         14.34          135.10     1297.0   \n",
       "\n",
       "   smoothness_mean  compactness_mean  concavity_mean  concave points_mean  \\\n",
       "0          0.11840           0.27760          0.3001              0.14710   \n",
       "1          0.08474           0.07864          0.0869              0.07017   \n",
       "2          0.10960           0.15990          0.1974              0.12790   \n",
       "3          0.14250           0.28390          0.2414              0.10520   \n",
       "4          0.10030           0.13280          0.1980              0.10430   \n",
       "\n",
       "   ...  texture_worst  perimeter_worst  area_worst  smoothness_worst  \\\n",
       "0  ...          17.33           184.60      2019.0            0.1622   \n",
       "1  ...          23.41           158.80      1956.0            0.1238   \n",
       "2  ...          25.53           152.50      1709.0            0.1444   \n",
       "3  ...          26.50            98.87       567.7            0.2098   \n",
       "4  ...          16.67           152.20      1575.0            0.1374   \n",
       "\n",
       "   compactness_worst  concavity_worst  concave points_worst  symmetry_worst  \\\n",
       "0             0.6656           0.7119                0.2654          0.4601   \n",
       "1             0.1866           0.2416                0.1860          0.2750   \n",
       "2             0.4245           0.4504                0.2430          0.3613   \n",
       "3             0.8663           0.6869                0.2575          0.6638   \n",
       "4             0.2050           0.4000                0.1625          0.2364   \n",
       "\n",
       "   fractal_dimension_worst  Unnamed: 32  \n",
       "0                  0.11890          NaN  \n",
       "1                  0.08902          NaN  \n",
       "2                  0.08758          NaN  \n",
       "3                  0.17300          NaN  \n",
       "4                  0.07678          NaN  \n",
       "\n",
       "[5 rows x 33 columns]"
      ]
     },
     "execution_count": 3,
     "metadata": {},
     "output_type": "execute_result"
    }
   ],
   "source": [
    "#ilk 5 kolonu yazdırır.\n",
    "data.head()"
   ]
  },
  {
   "cell_type": "code",
   "execution_count": 4,
   "metadata": {},
   "outputs": [
    {
     "data": {
      "text/plain": [
       "Index(['id', 'diagnosis', 'radius_mean', 'texture_mean', 'perimeter_mean',\n",
       "       'area_mean', 'smoothness_mean', 'compactness_mean', 'concavity_mean',\n",
       "       'concave points_mean', 'symmetry_mean', 'fractal_dimension_mean',\n",
       "       'radius_se', 'texture_se', 'perimeter_se', 'area_se', 'smoothness_se',\n",
       "       'compactness_se', 'concavity_se', 'concave points_se', 'symmetry_se',\n",
       "       'fractal_dimension_se', 'radius_worst', 'texture_worst',\n",
       "       'perimeter_worst', 'area_worst', 'smoothness_worst',\n",
       "       'compactness_worst', 'concavity_worst', 'concave points_worst',\n",
       "       'symmetry_worst', 'fractal_dimension_worst', 'Unnamed: 32'],\n",
       "      dtype='object')"
      ]
     },
     "execution_count": 4,
     "metadata": {},
     "output_type": "execute_result"
    }
   ],
   "source": [
    "#kolonların isimlerini gösterir\n",
    "data.columns"
   ]
  },
  {
   "cell_type": "code",
   "execution_count": 5,
   "metadata": {},
   "outputs": [
    {
     "name": "stdout",
     "output_type": "stream",
     "text": [
      "<class 'pandas.core.frame.DataFrame'>\n",
      "RangeIndex: 569 entries, 0 to 568\n",
      "Data columns (total 33 columns):\n",
      " #   Column                   Non-Null Count  Dtype  \n",
      "---  ------                   --------------  -----  \n",
      " 0   id                       569 non-null    int64  \n",
      " 1   diagnosis                569 non-null    object \n",
      " 2   radius_mean              569 non-null    float64\n",
      " 3   texture_mean             569 non-null    float64\n",
      " 4   perimeter_mean           569 non-null    float64\n",
      " 5   area_mean                569 non-null    float64\n",
      " 6   smoothness_mean          569 non-null    float64\n",
      " 7   compactness_mean         569 non-null    float64\n",
      " 8   concavity_mean           569 non-null    float64\n",
      " 9   concave points_mean      569 non-null    float64\n",
      " 10  symmetry_mean            569 non-null    float64\n",
      " 11  fractal_dimension_mean   569 non-null    float64\n",
      " 12  radius_se                569 non-null    float64\n",
      " 13  texture_se               569 non-null    float64\n",
      " 14  perimeter_se             569 non-null    float64\n",
      " 15  area_se                  569 non-null    float64\n",
      " 16  smoothness_se            569 non-null    float64\n",
      " 17  compactness_se           569 non-null    float64\n",
      " 18  concavity_se             569 non-null    float64\n",
      " 19  concave points_se        569 non-null    float64\n",
      " 20  symmetry_se              569 non-null    float64\n",
      " 21  fractal_dimension_se     569 non-null    float64\n",
      " 22  radius_worst             569 non-null    float64\n",
      " 23  texture_worst            569 non-null    float64\n",
      " 24  perimeter_worst          569 non-null    float64\n",
      " 25  area_worst               569 non-null    float64\n",
      " 26  smoothness_worst         569 non-null    float64\n",
      " 27  compactness_worst        569 non-null    float64\n",
      " 28  concavity_worst          569 non-null    float64\n",
      " 29  concave points_worst     569 non-null    float64\n",
      " 30  symmetry_worst           569 non-null    float64\n",
      " 31  fractal_dimension_worst  569 non-null    float64\n",
      " 32  Unnamed: 32              0 non-null      float64\n",
      "dtypes: float64(31), int64(1), object(1)\n",
      "memory usage: 146.8+ KB\n"
     ]
    }
   ],
   "source": [
    "#veri seti hakkında genel bilgiler verir.\n",
    "data.info()"
   ]
  },
  {
   "cell_type": "markdown",
   "metadata": {},
   "source": [
    "## ---------------------------------------------------------------------------------------------------------------------------------"
   ]
  },
  {
   "cell_type": "markdown",
   "metadata": {},
   "source": [
    "Kolonlar hiç NaN değeri içermiyor. Sadece son kolon(\"Unnamed: 32\") NaN verilerden oluşuyor. Çalışılması gereken kolonlar belirtildiği için silinmesine gerek yok ama yine de sildim."
   ]
  },
  {
   "cell_type": "code",
   "execution_count": 6,
   "metadata": {},
   "outputs": [
    {
     "data": {
      "text/plain": [
       "id                           0\n",
       "diagnosis                    0\n",
       "radius_mean                  0\n",
       "texture_mean                 0\n",
       "perimeter_mean               0\n",
       "area_mean                    0\n",
       "smoothness_mean              0\n",
       "compactness_mean             0\n",
       "concavity_mean               0\n",
       "concave points_mean          0\n",
       "symmetry_mean                0\n",
       "fractal_dimension_mean       0\n",
       "radius_se                    0\n",
       "texture_se                   0\n",
       "perimeter_se                 0\n",
       "area_se                      0\n",
       "smoothness_se                0\n",
       "compactness_se               0\n",
       "concavity_se                 0\n",
       "concave points_se            0\n",
       "symmetry_se                  0\n",
       "fractal_dimension_se         0\n",
       "radius_worst                 0\n",
       "texture_worst                0\n",
       "perimeter_worst              0\n",
       "area_worst                   0\n",
       "smoothness_worst             0\n",
       "compactness_worst            0\n",
       "concavity_worst              0\n",
       "concave points_worst         0\n",
       "symmetry_worst               0\n",
       "fractal_dimension_worst      0\n",
       "Unnamed: 32                569\n",
       "dtype: int64"
      ]
     },
     "execution_count": 6,
     "metadata": {},
     "output_type": "execute_result"
    }
   ],
   "source": [
    "#NaN değerlerin kolonlardaki toplamını verir\n",
    "data.isna().sum()"
   ]
  },
  {
   "cell_type": "code",
   "execution_count": 7,
   "metadata": {},
   "outputs": [],
   "source": [
    "#Adı belirtilen kolonu siler.\n",
    "data = data.drop(\"Unnamed: 32\", axis=1)"
   ]
  },
  {
   "cell_type": "code",
   "execution_count": 8,
   "metadata": {},
   "outputs": [
    {
     "data": {
      "text/plain": [
       "Index(['id', 'diagnosis', 'radius_mean', 'texture_mean', 'perimeter_mean',\n",
       "       'area_mean', 'smoothness_mean', 'compactness_mean', 'concavity_mean',\n",
       "       'concave points_mean', 'symmetry_mean', 'fractal_dimension_mean',\n",
       "       'radius_se', 'texture_se', 'perimeter_se', 'area_se', 'smoothness_se',\n",
       "       'compactness_se', 'concavity_se', 'concave points_se', 'symmetry_se',\n",
       "       'fractal_dimension_se', 'radius_worst', 'texture_worst',\n",
       "       'perimeter_worst', 'area_worst', 'smoothness_worst',\n",
       "       'compactness_worst', 'concavity_worst', 'concave points_worst',\n",
       "       'symmetry_worst', 'fractal_dimension_worst'],\n",
       "      dtype='object')"
      ]
     },
     "execution_count": 8,
     "metadata": {},
     "output_type": "execute_result"
    }
   ],
   "source": [
    "#Kolon kaldırıldı.\n",
    "data.columns"
   ]
  },
  {
   "cell_type": "markdown",
   "metadata": {},
   "source": [
    "### ------------------------------------------------------------------------------------------------------------------------------------------------------------"
   ]
  },
  {
   "cell_type": "markdown",
   "metadata": {},
   "source": [
    "Burada describe() metoduyla bütün kolonların değerlerini görüyoruz. İkinci soruda istenen kolonlarla ilgili işlem yapılacaktır."
   ]
  },
  {
   "cell_type": "code",
   "execution_count": 9,
   "metadata": {},
   "outputs": [
    {
     "data": {
      "text/html": [
       "<div>\n",
       "<style scoped>\n",
       "    .dataframe tbody tr th:only-of-type {\n",
       "        vertical-align: middle;\n",
       "    }\n",
       "\n",
       "    .dataframe tbody tr th {\n",
       "        vertical-align: top;\n",
       "    }\n",
       "\n",
       "    .dataframe thead th {\n",
       "        text-align: right;\n",
       "    }\n",
       "</style>\n",
       "<table border=\"1\" class=\"dataframe\">\n",
       "  <thead>\n",
       "    <tr style=\"text-align: right;\">\n",
       "      <th></th>\n",
       "      <th>id</th>\n",
       "      <th>radius_mean</th>\n",
       "      <th>texture_mean</th>\n",
       "      <th>perimeter_mean</th>\n",
       "      <th>area_mean</th>\n",
       "      <th>smoothness_mean</th>\n",
       "      <th>compactness_mean</th>\n",
       "      <th>concavity_mean</th>\n",
       "      <th>concave points_mean</th>\n",
       "      <th>symmetry_mean</th>\n",
       "      <th>...</th>\n",
       "      <th>radius_worst</th>\n",
       "      <th>texture_worst</th>\n",
       "      <th>perimeter_worst</th>\n",
       "      <th>area_worst</th>\n",
       "      <th>smoothness_worst</th>\n",
       "      <th>compactness_worst</th>\n",
       "      <th>concavity_worst</th>\n",
       "      <th>concave points_worst</th>\n",
       "      <th>symmetry_worst</th>\n",
       "      <th>fractal_dimension_worst</th>\n",
       "    </tr>\n",
       "  </thead>\n",
       "  <tbody>\n",
       "    <tr>\n",
       "      <th>count</th>\n",
       "      <td>5.690000e+02</td>\n",
       "      <td>569.000000</td>\n",
       "      <td>569.000000</td>\n",
       "      <td>569.000000</td>\n",
       "      <td>569.000000</td>\n",
       "      <td>569.000000</td>\n",
       "      <td>569.000000</td>\n",
       "      <td>569.000000</td>\n",
       "      <td>569.000000</td>\n",
       "      <td>569.000000</td>\n",
       "      <td>...</td>\n",
       "      <td>569.000000</td>\n",
       "      <td>569.000000</td>\n",
       "      <td>569.000000</td>\n",
       "      <td>569.000000</td>\n",
       "      <td>569.000000</td>\n",
       "      <td>569.000000</td>\n",
       "      <td>569.000000</td>\n",
       "      <td>569.000000</td>\n",
       "      <td>569.000000</td>\n",
       "      <td>569.000000</td>\n",
       "    </tr>\n",
       "    <tr>\n",
       "      <th>mean</th>\n",
       "      <td>3.037183e+07</td>\n",
       "      <td>14.127292</td>\n",
       "      <td>19.289649</td>\n",
       "      <td>91.969033</td>\n",
       "      <td>654.889104</td>\n",
       "      <td>0.096360</td>\n",
       "      <td>0.104341</td>\n",
       "      <td>0.088799</td>\n",
       "      <td>0.048919</td>\n",
       "      <td>0.181162</td>\n",
       "      <td>...</td>\n",
       "      <td>16.269190</td>\n",
       "      <td>25.677223</td>\n",
       "      <td>107.261213</td>\n",
       "      <td>880.583128</td>\n",
       "      <td>0.132369</td>\n",
       "      <td>0.254265</td>\n",
       "      <td>0.272188</td>\n",
       "      <td>0.114606</td>\n",
       "      <td>0.290076</td>\n",
       "      <td>0.083946</td>\n",
       "    </tr>\n",
       "    <tr>\n",
       "      <th>std</th>\n",
       "      <td>1.250206e+08</td>\n",
       "      <td>3.524049</td>\n",
       "      <td>4.301036</td>\n",
       "      <td>24.298981</td>\n",
       "      <td>351.914129</td>\n",
       "      <td>0.014064</td>\n",
       "      <td>0.052813</td>\n",
       "      <td>0.079720</td>\n",
       "      <td>0.038803</td>\n",
       "      <td>0.027414</td>\n",
       "      <td>...</td>\n",
       "      <td>4.833242</td>\n",
       "      <td>6.146258</td>\n",
       "      <td>33.602542</td>\n",
       "      <td>569.356993</td>\n",
       "      <td>0.022832</td>\n",
       "      <td>0.157336</td>\n",
       "      <td>0.208624</td>\n",
       "      <td>0.065732</td>\n",
       "      <td>0.061867</td>\n",
       "      <td>0.018061</td>\n",
       "    </tr>\n",
       "    <tr>\n",
       "      <th>min</th>\n",
       "      <td>8.670000e+03</td>\n",
       "      <td>6.981000</td>\n",
       "      <td>9.710000</td>\n",
       "      <td>43.790000</td>\n",
       "      <td>143.500000</td>\n",
       "      <td>0.052630</td>\n",
       "      <td>0.019380</td>\n",
       "      <td>0.000000</td>\n",
       "      <td>0.000000</td>\n",
       "      <td>0.106000</td>\n",
       "      <td>...</td>\n",
       "      <td>7.930000</td>\n",
       "      <td>12.020000</td>\n",
       "      <td>50.410000</td>\n",
       "      <td>185.200000</td>\n",
       "      <td>0.071170</td>\n",
       "      <td>0.027290</td>\n",
       "      <td>0.000000</td>\n",
       "      <td>0.000000</td>\n",
       "      <td>0.156500</td>\n",
       "      <td>0.055040</td>\n",
       "    </tr>\n",
       "    <tr>\n",
       "      <th>25%</th>\n",
       "      <td>8.692180e+05</td>\n",
       "      <td>11.700000</td>\n",
       "      <td>16.170000</td>\n",
       "      <td>75.170000</td>\n",
       "      <td>420.300000</td>\n",
       "      <td>0.086370</td>\n",
       "      <td>0.064920</td>\n",
       "      <td>0.029560</td>\n",
       "      <td>0.020310</td>\n",
       "      <td>0.161900</td>\n",
       "      <td>...</td>\n",
       "      <td>13.010000</td>\n",
       "      <td>21.080000</td>\n",
       "      <td>84.110000</td>\n",
       "      <td>515.300000</td>\n",
       "      <td>0.116600</td>\n",
       "      <td>0.147200</td>\n",
       "      <td>0.114500</td>\n",
       "      <td>0.064930</td>\n",
       "      <td>0.250400</td>\n",
       "      <td>0.071460</td>\n",
       "    </tr>\n",
       "    <tr>\n",
       "      <th>50%</th>\n",
       "      <td>9.060240e+05</td>\n",
       "      <td>13.370000</td>\n",
       "      <td>18.840000</td>\n",
       "      <td>86.240000</td>\n",
       "      <td>551.100000</td>\n",
       "      <td>0.095870</td>\n",
       "      <td>0.092630</td>\n",
       "      <td>0.061540</td>\n",
       "      <td>0.033500</td>\n",
       "      <td>0.179200</td>\n",
       "      <td>...</td>\n",
       "      <td>14.970000</td>\n",
       "      <td>25.410000</td>\n",
       "      <td>97.660000</td>\n",
       "      <td>686.500000</td>\n",
       "      <td>0.131300</td>\n",
       "      <td>0.211900</td>\n",
       "      <td>0.226700</td>\n",
       "      <td>0.099930</td>\n",
       "      <td>0.282200</td>\n",
       "      <td>0.080040</td>\n",
       "    </tr>\n",
       "    <tr>\n",
       "      <th>75%</th>\n",
       "      <td>8.813129e+06</td>\n",
       "      <td>15.780000</td>\n",
       "      <td>21.800000</td>\n",
       "      <td>104.100000</td>\n",
       "      <td>782.700000</td>\n",
       "      <td>0.105300</td>\n",
       "      <td>0.130400</td>\n",
       "      <td>0.130700</td>\n",
       "      <td>0.074000</td>\n",
       "      <td>0.195700</td>\n",
       "      <td>...</td>\n",
       "      <td>18.790000</td>\n",
       "      <td>29.720000</td>\n",
       "      <td>125.400000</td>\n",
       "      <td>1084.000000</td>\n",
       "      <td>0.146000</td>\n",
       "      <td>0.339100</td>\n",
       "      <td>0.382900</td>\n",
       "      <td>0.161400</td>\n",
       "      <td>0.317900</td>\n",
       "      <td>0.092080</td>\n",
       "    </tr>\n",
       "    <tr>\n",
       "      <th>max</th>\n",
       "      <td>9.113205e+08</td>\n",
       "      <td>28.110000</td>\n",
       "      <td>39.280000</td>\n",
       "      <td>188.500000</td>\n",
       "      <td>2501.000000</td>\n",
       "      <td>0.163400</td>\n",
       "      <td>0.345400</td>\n",
       "      <td>0.426800</td>\n",
       "      <td>0.201200</td>\n",
       "      <td>0.304000</td>\n",
       "      <td>...</td>\n",
       "      <td>36.040000</td>\n",
       "      <td>49.540000</td>\n",
       "      <td>251.200000</td>\n",
       "      <td>4254.000000</td>\n",
       "      <td>0.222600</td>\n",
       "      <td>1.058000</td>\n",
       "      <td>1.252000</td>\n",
       "      <td>0.291000</td>\n",
       "      <td>0.663800</td>\n",
       "      <td>0.207500</td>\n",
       "    </tr>\n",
       "  </tbody>\n",
       "</table>\n",
       "<p>8 rows × 31 columns</p>\n",
       "</div>"
      ],
      "text/plain": [
       "                 id  radius_mean  texture_mean  perimeter_mean    area_mean  \\\n",
       "count  5.690000e+02   569.000000    569.000000      569.000000   569.000000   \n",
       "mean   3.037183e+07    14.127292     19.289649       91.969033   654.889104   \n",
       "std    1.250206e+08     3.524049      4.301036       24.298981   351.914129   \n",
       "min    8.670000e+03     6.981000      9.710000       43.790000   143.500000   \n",
       "25%    8.692180e+05    11.700000     16.170000       75.170000   420.300000   \n",
       "50%    9.060240e+05    13.370000     18.840000       86.240000   551.100000   \n",
       "75%    8.813129e+06    15.780000     21.800000      104.100000   782.700000   \n",
       "max    9.113205e+08    28.110000     39.280000      188.500000  2501.000000   \n",
       "\n",
       "       smoothness_mean  compactness_mean  concavity_mean  concave points_mean  \\\n",
       "count       569.000000        569.000000      569.000000           569.000000   \n",
       "mean          0.096360          0.104341        0.088799             0.048919   \n",
       "std           0.014064          0.052813        0.079720             0.038803   \n",
       "min           0.052630          0.019380        0.000000             0.000000   \n",
       "25%           0.086370          0.064920        0.029560             0.020310   \n",
       "50%           0.095870          0.092630        0.061540             0.033500   \n",
       "75%           0.105300          0.130400        0.130700             0.074000   \n",
       "max           0.163400          0.345400        0.426800             0.201200   \n",
       "\n",
       "       symmetry_mean  ...  radius_worst  texture_worst  perimeter_worst  \\\n",
       "count     569.000000  ...    569.000000     569.000000       569.000000   \n",
       "mean        0.181162  ...     16.269190      25.677223       107.261213   \n",
       "std         0.027414  ...      4.833242       6.146258        33.602542   \n",
       "min         0.106000  ...      7.930000      12.020000        50.410000   \n",
       "25%         0.161900  ...     13.010000      21.080000        84.110000   \n",
       "50%         0.179200  ...     14.970000      25.410000        97.660000   \n",
       "75%         0.195700  ...     18.790000      29.720000       125.400000   \n",
       "max         0.304000  ...     36.040000      49.540000       251.200000   \n",
       "\n",
       "        area_worst  smoothness_worst  compactness_worst  concavity_worst  \\\n",
       "count   569.000000        569.000000         569.000000       569.000000   \n",
       "mean    880.583128          0.132369           0.254265         0.272188   \n",
       "std     569.356993          0.022832           0.157336         0.208624   \n",
       "min     185.200000          0.071170           0.027290         0.000000   \n",
       "25%     515.300000          0.116600           0.147200         0.114500   \n",
       "50%     686.500000          0.131300           0.211900         0.226700   \n",
       "75%    1084.000000          0.146000           0.339100         0.382900   \n",
       "max    4254.000000          0.222600           1.058000         1.252000   \n",
       "\n",
       "       concave points_worst  symmetry_worst  fractal_dimension_worst  \n",
       "count            569.000000      569.000000               569.000000  \n",
       "mean               0.114606        0.290076                 0.083946  \n",
       "std                0.065732        0.061867                 0.018061  \n",
       "min                0.000000        0.156500                 0.055040  \n",
       "25%                0.064930        0.250400                 0.071460  \n",
       "50%                0.099930        0.282200                 0.080040  \n",
       "75%                0.161400        0.317900                 0.092080  \n",
       "max                0.291000        0.663800                 0.207500  \n",
       "\n",
       "[8 rows x 31 columns]"
      ]
     },
     "execution_count": 9,
     "metadata": {},
     "output_type": "execute_result"
    }
   ],
   "source": [
    "data.describe()"
   ]
  },
  {
   "cell_type": "markdown",
   "metadata": {},
   "source": [
    "### -------------------------------------------------------------------------------------------------------------------------------------------------------------"
   ]
  },
  {
   "cell_type": "markdown",
   "metadata": {},
   "source": [
    "# 1. Soru"
   ]
  },
  {
   "cell_type": "code",
   "execution_count": 10,
   "metadata": {},
   "outputs": [
    {
     "data": {
      "text/html": [
       "<img src=\"images/measurements1.png\" width=\"600\" height=\"600\"/>"
      ],
      "text/plain": [
       "<IPython.core.display.Image object>"
      ]
     },
     "execution_count": 10,
     "metadata": {},
     "output_type": "execute_result"
    }
   ],
   "source": [
    "from IPython.display import Image\n",
    "Image(url= \"images/measurements1.png\", width=600, height=600)\n",
    "#görsel kaynağı: https://medium.com/@rndayala/data-levels-of-measurement-4af33d9ab51a"
   ]
  },
  {
   "cell_type": "markdown",
   "metadata": {},
   "source": [
    "Levels of measurements yani ölçüm düzeyleri 2'ye ayrılmakla birlikte 4 tanedir.\n",
    "\n",
    "- Öncelikle kategorik ve numerik olarak 2'ye ayrılır. Bunu yapmak değişken türlerini kategorize etmemizi basitleştirmek, doğru istatistiksel testi seçmek adına bize yardımcı olur\n",
    "- Kategorik veriler nominal ve ordinal olarak, numerik veriler ise interval ve ratio olarak kendi içlerinde 2'ye ayrılır.\n",
    "- Nominal veriler, basitçe \"etiketler\" olarak adlandırılabilir(isim, cinsiyet vs.). Fakat bu verilerle büyükten küçüğe sıralama gibi işlemlede bulunamayız.\n",
    "- Ordinal veriler, kategoriler haline getirilmiş verileri sıralama işlemi yapar. Kategorik halde bulunması ordinal verileri numerik verilerden ayırır.\n",
    "- Interval veriler, sürekli verilerdir. Matematiksel anlamda söylenecek olursa, interval veriler aralarındaki fark anlamlıdır. Yani aşağıdaki örnekte göründüğü gibi bir kişinin doğduğu yıllar arasındaki fark onların yaşlarını verecektir. Ama kategorik verilere bakıldığında bir kişinin cinsiyeti ve mutluluk oranının arasında bir fark ya yoktur ya da anlamlı değildir. \n",
    "- Ratio veriler, interval verilerle aynı özellikleri taşır. \n",
    "- Interval ve ratio verileri birbirinden ayıran kavram mutlak sıfır noktasıdır(absolute/true zero). Ratio'da veriler bir başlangıç ve bitiş noktasına sahip olabilecekken, interval verilerde bu yoktur."
   ]
  },
  {
   "cell_type": "code",
   "execution_count": 11,
   "metadata": {},
   "outputs": [],
   "source": [
    "#nominal değerler\n",
    "Column1 = [\"Erkek\",\"Kadın\",\"Kadın\",\"Erkek\"]\n",
    "#Ordinal değerler\n",
    "Column2 = [\"Mutsuz\", \"Çok Mutsuz\",\"Mutlu\",\"Çok Mutlu\"]\n",
    "#Interval değerler\n",
    "Column3 = [\"18-04-2004\",\"03-10-1996\",\"15-09-1983\",\"29-12-2016\"]\n",
    "#Ratio değerler\n",
    "Column4 = [\"17\",\"25\",\"82\",\"5\"]\n",
    "\n",
    "#Kodun daha iyi okunabilmesi adına değerleri veri setine tek tek yazmayıp zip komutuyla birleştirdim.\n",
    "combined_list = list(zip(Column1,Column2,Column3,Column4))  "
   ]
  },
  {
   "cell_type": "code",
   "execution_count": 27,
   "metadata": {},
   "outputs": [
    {
     "data": {
      "text/plain": [
       "[('Erkek', 'Mutsuz', '18-04-2004', '17'),\n",
       " ('Kadın', 'Çok Mutsuz', '03-10-1996', '25'),\n",
       " ('Kadın', 'Mutlu', '15-09-1983', '82'),\n",
       " ('Erkek', 'Çok Mutlu', '29-12-2016', '5')]"
      ]
     },
     "execution_count": 27,
     "metadata": {},
     "output_type": "execute_result"
    }
   ],
   "source": [
    "#Zip komutuyla içinde 4 tuple olacak şekilde bir liste elde ettik.\n",
    "combined_list"
   ]
  },
  {
   "cell_type": "markdown",
   "metadata": {},
   "source": [
    "İçerisinde 4 girdi bulunan bu veri setinde belirli cinsiyet ve yaştaki insanların mutluluk seviyeleri belirtilmiştir."
   ]
  },
  {
   "cell_type": "code",
   "execution_count": 12,
   "metadata": {},
   "outputs": [
    {
     "data": {
      "text/html": [
       "<div>\n",
       "<style scoped>\n",
       "    .dataframe tbody tr th:only-of-type {\n",
       "        vertical-align: middle;\n",
       "    }\n",
       "\n",
       "    .dataframe tbody tr th {\n",
       "        vertical-align: top;\n",
       "    }\n",
       "\n",
       "    .dataframe thead th {\n",
       "        text-align: right;\n",
       "    }\n",
       "</style>\n",
       "<table border=\"1\" class=\"dataframe\">\n",
       "  <thead>\n",
       "    <tr style=\"text-align: right;\">\n",
       "      <th></th>\n",
       "      <th>Cinsiyet</th>\n",
       "      <th>Mutluluk Seviyesi</th>\n",
       "      <th>Doğum Tarihi</th>\n",
       "      <th>Yaş</th>\n",
       "    </tr>\n",
       "  </thead>\n",
       "  <tbody>\n",
       "    <tr>\n",
       "      <th>1</th>\n",
       "      <td>Erkek</td>\n",
       "      <td>Mutsuz</td>\n",
       "      <td>18-04-2004</td>\n",
       "      <td>17</td>\n",
       "    </tr>\n",
       "    <tr>\n",
       "      <th>2</th>\n",
       "      <td>Kadın</td>\n",
       "      <td>Çok Mutsuz</td>\n",
       "      <td>03-10-1996</td>\n",
       "      <td>25</td>\n",
       "    </tr>\n",
       "    <tr>\n",
       "      <th>3</th>\n",
       "      <td>Kadın</td>\n",
       "      <td>Mutlu</td>\n",
       "      <td>15-09-1983</td>\n",
       "      <td>82</td>\n",
       "    </tr>\n",
       "    <tr>\n",
       "      <th>4</th>\n",
       "      <td>Erkek</td>\n",
       "      <td>Çok Mutlu</td>\n",
       "      <td>29-12-2016</td>\n",
       "      <td>5</td>\n",
       "    </tr>\n",
       "  </tbody>\n",
       "</table>\n",
       "</div>"
      ],
      "text/plain": [
       "  Cinsiyet Mutluluk Seviyesi Doğum Tarihi Yaş\n",
       "1    Erkek            Mutsuz   18-04-2004  17\n",
       "2    Kadın        Çok Mutsuz   03-10-1996  25\n",
       "3    Kadın             Mutlu   15-09-1983  82\n",
       "4    Erkek         Çok Mutlu   29-12-2016   5"
      ]
     },
     "execution_count": 12,
     "metadata": {},
     "output_type": "execute_result"
    }
   ],
   "source": [
    "df = pd.DataFrame(combined_list, index = [\"1\",\"2\",\"3\",\"4\"],columns = [\"Cinsiyet\",\"Mutluluk Seviyesi\",\"Doğum Tarihi\",\"Yaş\"])\n",
    "df"
   ]
  },
  {
   "cell_type": "markdown",
   "metadata": {},
   "source": [
    "### -------------------------------------------------------------------------------------------------------------------------------------------------------------"
   ]
  },
  {
   "cell_type": "markdown",
   "metadata": {},
   "source": [
    "# 2. Soru"
   ]
  },
  {
   "cell_type": "markdown",
   "metadata": {},
   "source": [
    "Öncelikle kolonların describe() metoduyla değerleri gösterilecek. Daha sonra 3 kolonun da sırasıyla Q1, Q3, medyan, iqr ve outlier değerleri hesaplanacaktır."
   ]
  },
  {
   "cell_type": "code",
   "execution_count": 13,
   "metadata": {},
   "outputs": [
    {
     "data": {
      "text/html": [
       "<div>\n",
       "<style scoped>\n",
       "    .dataframe tbody tr th:only-of-type {\n",
       "        vertical-align: middle;\n",
       "    }\n",
       "\n",
       "    .dataframe tbody tr th {\n",
       "        vertical-align: top;\n",
       "    }\n",
       "\n",
       "    .dataframe thead th {\n",
       "        text-align: right;\n",
       "    }\n",
       "</style>\n",
       "<table border=\"1\" class=\"dataframe\">\n",
       "  <thead>\n",
       "    <tr style=\"text-align: right;\">\n",
       "      <th></th>\n",
       "      <th>count</th>\n",
       "      <th>mean</th>\n",
       "      <th>std</th>\n",
       "      <th>min</th>\n",
       "      <th>25%</th>\n",
       "      <th>50%</th>\n",
       "      <th>75%</th>\n",
       "      <th>max</th>\n",
       "    </tr>\n",
       "  </thead>\n",
       "  <tbody>\n",
       "    <tr>\n",
       "      <th>radius_mean</th>\n",
       "      <td>569.0</td>\n",
       "      <td>14.127292</td>\n",
       "      <td>3.524049</td>\n",
       "      <td>6.98100</td>\n",
       "      <td>11.70000</td>\n",
       "      <td>13.37000</td>\n",
       "      <td>15.7800</td>\n",
       "      <td>28.1100</td>\n",
       "    </tr>\n",
       "    <tr>\n",
       "      <th>area_mean</th>\n",
       "      <td>569.0</td>\n",
       "      <td>654.889104</td>\n",
       "      <td>351.914129</td>\n",
       "      <td>143.50000</td>\n",
       "      <td>420.30000</td>\n",
       "      <td>551.10000</td>\n",
       "      <td>782.7000</td>\n",
       "      <td>2501.0000</td>\n",
       "    </tr>\n",
       "    <tr>\n",
       "      <th>compactness_mean</th>\n",
       "      <td>569.0</td>\n",
       "      <td>0.104341</td>\n",
       "      <td>0.052813</td>\n",
       "      <td>0.01938</td>\n",
       "      <td>0.06492</td>\n",
       "      <td>0.09263</td>\n",
       "      <td>0.1304</td>\n",
       "      <td>0.3454</td>\n",
       "    </tr>\n",
       "  </tbody>\n",
       "</table>\n",
       "</div>"
      ],
      "text/plain": [
       "                  count        mean         std        min        25%  \\\n",
       "radius_mean       569.0   14.127292    3.524049    6.98100   11.70000   \n",
       "area_mean         569.0  654.889104  351.914129  143.50000  420.30000   \n",
       "compactness_mean  569.0    0.104341    0.052813    0.01938    0.06492   \n",
       "\n",
       "                        50%       75%        max  \n",
       "radius_mean        13.37000   15.7800    28.1100  \n",
       "area_mean         551.10000  782.7000  2501.0000  \n",
       "compactness_mean    0.09263    0.1304     0.3454  "
      ]
     },
     "execution_count": 13,
     "metadata": {},
     "output_type": "execute_result"
    }
   ],
   "source": [
    "data.describe()[[\"radius_mean\",\"area_mean\",\"compactness_mean\"]].T"
   ]
  },
  {
   "cell_type": "code",
   "execution_count": 28,
   "metadata": {},
   "outputs": [
    {
     "data": {
      "text/html": [
       "<img src=\"images/iqr.png\" width=\"600\" height=\"600\"/>"
      ],
      "text/plain": [
       "<IPython.core.display.Image object>"
      ]
     },
     "execution_count": 28,
     "metadata": {},
     "output_type": "execute_result"
    }
   ],
   "source": [
    "Image(url= \"images/iqr.png\", width=600, height=600)"
   ]
  },
  {
   "cell_type": "markdown",
   "metadata": {},
   "source": [
    "### Çeyreklik(Quartile)\n",
    "\n",
    "- Çeyreklikler elimizdeki verileri 4 parçaya bölen bir dağılım(quantile) çeşididir.\n",
    "- Çeyrekliklere bölünme sebebi ise bir yayılma ölçüsü olan Çeyrekler Açıklığı(IQR)'nı hesaplamaktır.\n",
    "- Yayılma, bir değişkenin değerinin, belirlenen merkez noktasından yaygınlığı/farklılığıdır.\n",
    "- Çeyrekler açıklığı ise 3.çeyreklik ve 1. çeyreklik farkını alarak outlier değerlerden etkilenmeyen %50'lik bir alan oluşturan bir yayılma ölçüsüdür.\n",
    "- Veri setinin geri kalanını outlier değerleri tespit etmek için de IQR kullanılabilir. Buna \"1.5*IQR\" yöntemi denir. Aşağıdaki \"outlier_calculation\" fonksiyonunda hesaplanmaktadır.\n",
    "- Outlier değerleri tespit etmenin tek yöntemi 1.5*IQR yöntemi değildir. \"3-sigma kuralı(68–95–99.7 rule)\" başka bir örnek olarak verilebilir.\n",
    "\n",
    "3-sigma kuralı için: https://en.wikipedia.org/wiki/68%E2%80%9395%E2%80%9399.7_rule "
   ]
  },
  {
   "cell_type": "code",
   "execution_count": 14,
   "metadata": {},
   "outputs": [],
   "source": [
    "#Öncelikle belirtilen 3 kolonun q3 ve q1 değerlerini hesapladım.\n",
    "\n",
    "#radius quantile hesaplama\n",
    "radius_q1 = data[\"radius_mean\"].quantile(0.25)\n",
    "radius_q3 = data[\"radius_mean\"].quantile(0.75)\n",
    "\n",
    "#area quantile hesaplama\n",
    "area_q1 = data[\"area_mean\"].quantile(0.25)\n",
    "area_q3 = data[\"area_mean\"].quantile(0.75)\n",
    "\n",
    "#compactness quantile hesaplama\n",
    "compactness_q1 = data[\"compactness_mean\"].quantile(0.25)\n",
    "compactness_q3 = data[\"compactness_mean\"].quantile(0.75)"
   ]
  },
  {
   "cell_type": "code",
   "execution_count": 15,
   "metadata": {},
   "outputs": [],
   "source": [
    "#Buradaki fonksiyonlarda sırasıyla iqr hesaplama, outlier aralığı hesaplama ve dataframeden outlier temizliği yapılmaktadır.\n",
    "\n",
    "#Hesaplanan q3 ve q1 değerlerinin farkı alınarak IQR değerlerini hesaplayan ve bu değerleri yazdıran fonksiyon.\n",
    "def iqr_calculation(q3, q1):\n",
    "    iqr = q3 - q1\n",
    "    print(f\"Q1 değeri: {q1} ve Q3 değeri: {q3}\")\n",
    "    print(f\"IQR değeri: {iqr}\")\n",
    "    return iqr\n",
    "\n",
    "#HEsaplanan IQR değerleri sonrasında outlierları bulabilmek için 1.5*IQR yöntemi uygulayan fonksiyon.\n",
    "def outlier_calculation(q3, q1, iqr):\n",
    "    lower_outlier = q1 - (1.5 * iqr)\n",
    "    higher_outlier = q3 + (1.5 * iqr)\n",
    "    print(f\"{lower_outlier} değerinden küçük ve {higher_outlier} değerinden büyük bütün değerler outlierdır.\\n\")\n",
    "    return lower_outlier, higher_outlier\n",
    "\n",
    "#Belirtilen kolondaki verilerin değeri, outlier sınırı olarak belirlenen değerlerden büyük veya küçükse değerleri silen fonksiyon.\n",
    "def outlier_cleaning(n, lower_outlier, higher_outlier):\n",
    "    data.drop(data.loc[data[n] < lower_outlier].index, inplace=True)\n",
    "    data.drop(data.loc[data[n] > higher_outlier].index, inplace=True) "
   ]
  },
  {
   "cell_type": "code",
   "execution_count": 16,
   "metadata": {},
   "outputs": [
    {
     "name": "stdout",
     "output_type": "stream",
     "text": [
      "radius_mean için:\n",
      "Q1 değeri: 11.7 ve Q3 değeri: 15.78\n",
      "IQR değeri: 4.08\n",
      "5.579999999999999 değerinden küçük ve 21.9 değerinden büyük bütün değerler outlierdır.\n",
      "\n",
      "------------------------------------\n",
      "area_mean için:\n",
      "Q1 değeri: 420.3 ve Q3 değeri: 782.7\n",
      "IQR değeri: 362.40000000000003\n",
      "-123.30000000000001 değerinden küçük ve 1326.3000000000002 değerinden büyük bütün değerler outlierdır.\n",
      "\n",
      "------------------------------------\n",
      "compactness_mean için:\n",
      "Q1 değeri: 0.06492 ve Q3 değeri: 0.1304\n",
      "IQR değeri: 0.06547999999999998\n",
      "-0.03329999999999997 değerinden küçük ve 0.22861999999999996 değerinden büyük bütün değerler outlierdır.\n",
      "\n"
     ]
    }
   ],
   "source": [
    "#radius için fonksiyonları çağırma\n",
    "print(\"radius_mean için:\")\n",
    "radius_iqr = iqr_calculation(radius_q3, radius_q1)\n",
    "radius_lower_outlier, radius_higher_outlier = outlier_calculation(radius_q3, radius_q1, radius_iqr)\n",
    "outlier_cleaning(\"radius_mean\", radius_lower_outlier, radius_higher_outlier)\n",
    "\n",
    "print(\"------------------------------------\")\n",
    "\n",
    "#area için fonksiyonları çağırma\n",
    "print(\"area_mean için:\")\n",
    "area_iqr = iqr_calculation(area_q3, area_q1)\n",
    "area_lower_outlier, area_higher_outlier = outlier_calculation(area_q3, area_q1, area_iqr)\n",
    "outlier_cleaning(\"area_mean\", area_lower_outlier, area_higher_outlier)\n",
    "\n",
    "print(\"------------------------------------\")\n",
    "\n",
    "#compactness için fonksiyonları çağırma\n",
    "print(\"compactness_mean için:\")\n",
    "compactness_iqr = iqr_calculation(compactness_q3, compactness_q1)\n",
    "compactness_lower_outlier, compactness_higher_outlier = outlier_calculation(compactness_q3, compactness_q1, compactness_iqr)\n",
    "outlier_cleaning(\"compactness_mean\", compactness_lower_outlier, compactness_higher_outlier)"
   ]
  },
  {
   "cell_type": "code",
   "execution_count": 17,
   "metadata": {},
   "outputs": [
    {
     "data": {
      "text/html": [
       "<div>\n",
       "<style scoped>\n",
       "    .dataframe tbody tr th:only-of-type {\n",
       "        vertical-align: middle;\n",
       "    }\n",
       "\n",
       "    .dataframe tbody tr th {\n",
       "        vertical-align: top;\n",
       "    }\n",
       "\n",
       "    .dataframe thead th {\n",
       "        text-align: right;\n",
       "    }\n",
       "</style>\n",
       "<table border=\"1\" class=\"dataframe\">\n",
       "  <thead>\n",
       "    <tr style=\"text-align: right;\">\n",
       "      <th></th>\n",
       "      <th>id</th>\n",
       "      <th>diagnosis</th>\n",
       "      <th>radius_mean</th>\n",
       "      <th>texture_mean</th>\n",
       "      <th>perimeter_mean</th>\n",
       "      <th>area_mean</th>\n",
       "      <th>smoothness_mean</th>\n",
       "      <th>compactness_mean</th>\n",
       "      <th>concavity_mean</th>\n",
       "      <th>concave points_mean</th>\n",
       "      <th>...</th>\n",
       "      <th>radius_worst</th>\n",
       "      <th>texture_worst</th>\n",
       "      <th>perimeter_worst</th>\n",
       "      <th>area_worst</th>\n",
       "      <th>smoothness_worst</th>\n",
       "      <th>compactness_worst</th>\n",
       "      <th>concavity_worst</th>\n",
       "      <th>concave points_worst</th>\n",
       "      <th>symmetry_worst</th>\n",
       "      <th>fractal_dimension_worst</th>\n",
       "    </tr>\n",
       "  </thead>\n",
       "  <tbody>\n",
       "    <tr>\n",
       "      <th>1</th>\n",
       "      <td>842517</td>\n",
       "      <td>M</td>\n",
       "      <td>20.57</td>\n",
       "      <td>17.77</td>\n",
       "      <td>132.90</td>\n",
       "      <td>1326.0</td>\n",
       "      <td>0.08474</td>\n",
       "      <td>0.07864</td>\n",
       "      <td>0.08690</td>\n",
       "      <td>0.07017</td>\n",
       "      <td>...</td>\n",
       "      <td>24.990</td>\n",
       "      <td>23.41</td>\n",
       "      <td>158.80</td>\n",
       "      <td>1956.0</td>\n",
       "      <td>0.12380</td>\n",
       "      <td>0.18660</td>\n",
       "      <td>0.2416</td>\n",
       "      <td>0.1860</td>\n",
       "      <td>0.2750</td>\n",
       "      <td>0.08902</td>\n",
       "    </tr>\n",
       "    <tr>\n",
       "      <th>2</th>\n",
       "      <td>84300903</td>\n",
       "      <td>M</td>\n",
       "      <td>19.69</td>\n",
       "      <td>21.25</td>\n",
       "      <td>130.00</td>\n",
       "      <td>1203.0</td>\n",
       "      <td>0.10960</td>\n",
       "      <td>0.15990</td>\n",
       "      <td>0.19740</td>\n",
       "      <td>0.12790</td>\n",
       "      <td>...</td>\n",
       "      <td>23.570</td>\n",
       "      <td>25.53</td>\n",
       "      <td>152.50</td>\n",
       "      <td>1709.0</td>\n",
       "      <td>0.14440</td>\n",
       "      <td>0.42450</td>\n",
       "      <td>0.4504</td>\n",
       "      <td>0.2430</td>\n",
       "      <td>0.3613</td>\n",
       "      <td>0.08758</td>\n",
       "    </tr>\n",
       "    <tr>\n",
       "      <th>4</th>\n",
       "      <td>84358402</td>\n",
       "      <td>M</td>\n",
       "      <td>20.29</td>\n",
       "      <td>14.34</td>\n",
       "      <td>135.10</td>\n",
       "      <td>1297.0</td>\n",
       "      <td>0.10030</td>\n",
       "      <td>0.13280</td>\n",
       "      <td>0.19800</td>\n",
       "      <td>0.10430</td>\n",
       "      <td>...</td>\n",
       "      <td>22.540</td>\n",
       "      <td>16.67</td>\n",
       "      <td>152.20</td>\n",
       "      <td>1575.0</td>\n",
       "      <td>0.13740</td>\n",
       "      <td>0.20500</td>\n",
       "      <td>0.4000</td>\n",
       "      <td>0.1625</td>\n",
       "      <td>0.2364</td>\n",
       "      <td>0.07678</td>\n",
       "    </tr>\n",
       "    <tr>\n",
       "      <th>5</th>\n",
       "      <td>843786</td>\n",
       "      <td>M</td>\n",
       "      <td>12.45</td>\n",
       "      <td>15.70</td>\n",
       "      <td>82.57</td>\n",
       "      <td>477.1</td>\n",
       "      <td>0.12780</td>\n",
       "      <td>0.17000</td>\n",
       "      <td>0.15780</td>\n",
       "      <td>0.08089</td>\n",
       "      <td>...</td>\n",
       "      <td>15.470</td>\n",
       "      <td>23.75</td>\n",
       "      <td>103.40</td>\n",
       "      <td>741.6</td>\n",
       "      <td>0.17910</td>\n",
       "      <td>0.52490</td>\n",
       "      <td>0.5355</td>\n",
       "      <td>0.1741</td>\n",
       "      <td>0.3985</td>\n",
       "      <td>0.12440</td>\n",
       "    </tr>\n",
       "    <tr>\n",
       "      <th>6</th>\n",
       "      <td>844359</td>\n",
       "      <td>M</td>\n",
       "      <td>18.25</td>\n",
       "      <td>19.98</td>\n",
       "      <td>119.60</td>\n",
       "      <td>1040.0</td>\n",
       "      <td>0.09463</td>\n",
       "      <td>0.10900</td>\n",
       "      <td>0.11270</td>\n",
       "      <td>0.07400</td>\n",
       "      <td>...</td>\n",
       "      <td>22.880</td>\n",
       "      <td>27.66</td>\n",
       "      <td>153.20</td>\n",
       "      <td>1606.0</td>\n",
       "      <td>0.14420</td>\n",
       "      <td>0.25760</td>\n",
       "      <td>0.3784</td>\n",
       "      <td>0.1932</td>\n",
       "      <td>0.3063</td>\n",
       "      <td>0.08368</td>\n",
       "    </tr>\n",
       "    <tr>\n",
       "      <th>...</th>\n",
       "      <td>...</td>\n",
       "      <td>...</td>\n",
       "      <td>...</td>\n",
       "      <td>...</td>\n",
       "      <td>...</td>\n",
       "      <td>...</td>\n",
       "      <td>...</td>\n",
       "      <td>...</td>\n",
       "      <td>...</td>\n",
       "      <td>...</td>\n",
       "      <td>...</td>\n",
       "      <td>...</td>\n",
       "      <td>...</td>\n",
       "      <td>...</td>\n",
       "      <td>...</td>\n",
       "      <td>...</td>\n",
       "      <td>...</td>\n",
       "      <td>...</td>\n",
       "      <td>...</td>\n",
       "      <td>...</td>\n",
       "      <td>...</td>\n",
       "    </tr>\n",
       "    <tr>\n",
       "      <th>561</th>\n",
       "      <td>925311</td>\n",
       "      <td>B</td>\n",
       "      <td>11.20</td>\n",
       "      <td>29.37</td>\n",
       "      <td>70.67</td>\n",
       "      <td>386.0</td>\n",
       "      <td>0.07449</td>\n",
       "      <td>0.03558</td>\n",
       "      <td>0.00000</td>\n",
       "      <td>0.00000</td>\n",
       "      <td>...</td>\n",
       "      <td>11.920</td>\n",
       "      <td>38.30</td>\n",
       "      <td>75.19</td>\n",
       "      <td>439.6</td>\n",
       "      <td>0.09267</td>\n",
       "      <td>0.05494</td>\n",
       "      <td>0.0000</td>\n",
       "      <td>0.0000</td>\n",
       "      <td>0.1566</td>\n",
       "      <td>0.05905</td>\n",
       "    </tr>\n",
       "    <tr>\n",
       "      <th>562</th>\n",
       "      <td>925622</td>\n",
       "      <td>M</td>\n",
       "      <td>15.22</td>\n",
       "      <td>30.62</td>\n",
       "      <td>103.40</td>\n",
       "      <td>716.9</td>\n",
       "      <td>0.10480</td>\n",
       "      <td>0.20870</td>\n",
       "      <td>0.25500</td>\n",
       "      <td>0.09429</td>\n",
       "      <td>...</td>\n",
       "      <td>17.520</td>\n",
       "      <td>42.79</td>\n",
       "      <td>128.70</td>\n",
       "      <td>915.0</td>\n",
       "      <td>0.14170</td>\n",
       "      <td>0.79170</td>\n",
       "      <td>1.1700</td>\n",
       "      <td>0.2356</td>\n",
       "      <td>0.4089</td>\n",
       "      <td>0.14090</td>\n",
       "    </tr>\n",
       "    <tr>\n",
       "      <th>565</th>\n",
       "      <td>926682</td>\n",
       "      <td>M</td>\n",
       "      <td>20.13</td>\n",
       "      <td>28.25</td>\n",
       "      <td>131.20</td>\n",
       "      <td>1261.0</td>\n",
       "      <td>0.09780</td>\n",
       "      <td>0.10340</td>\n",
       "      <td>0.14400</td>\n",
       "      <td>0.09791</td>\n",
       "      <td>...</td>\n",
       "      <td>23.690</td>\n",
       "      <td>38.25</td>\n",
       "      <td>155.00</td>\n",
       "      <td>1731.0</td>\n",
       "      <td>0.11660</td>\n",
       "      <td>0.19220</td>\n",
       "      <td>0.3215</td>\n",
       "      <td>0.1628</td>\n",
       "      <td>0.2572</td>\n",
       "      <td>0.06637</td>\n",
       "    </tr>\n",
       "    <tr>\n",
       "      <th>566</th>\n",
       "      <td>926954</td>\n",
       "      <td>M</td>\n",
       "      <td>16.60</td>\n",
       "      <td>28.08</td>\n",
       "      <td>108.30</td>\n",
       "      <td>858.1</td>\n",
       "      <td>0.08455</td>\n",
       "      <td>0.10230</td>\n",
       "      <td>0.09251</td>\n",
       "      <td>0.05302</td>\n",
       "      <td>...</td>\n",
       "      <td>18.980</td>\n",
       "      <td>34.12</td>\n",
       "      <td>126.70</td>\n",
       "      <td>1124.0</td>\n",
       "      <td>0.11390</td>\n",
       "      <td>0.30940</td>\n",
       "      <td>0.3403</td>\n",
       "      <td>0.1418</td>\n",
       "      <td>0.2218</td>\n",
       "      <td>0.07820</td>\n",
       "    </tr>\n",
       "    <tr>\n",
       "      <th>568</th>\n",
       "      <td>92751</td>\n",
       "      <td>B</td>\n",
       "      <td>7.76</td>\n",
       "      <td>24.54</td>\n",
       "      <td>47.92</td>\n",
       "      <td>181.0</td>\n",
       "      <td>0.05263</td>\n",
       "      <td>0.04362</td>\n",
       "      <td>0.00000</td>\n",
       "      <td>0.00000</td>\n",
       "      <td>...</td>\n",
       "      <td>9.456</td>\n",
       "      <td>30.37</td>\n",
       "      <td>59.16</td>\n",
       "      <td>268.6</td>\n",
       "      <td>0.08996</td>\n",
       "      <td>0.06444</td>\n",
       "      <td>0.0000</td>\n",
       "      <td>0.0000</td>\n",
       "      <td>0.2871</td>\n",
       "      <td>0.07039</td>\n",
       "    </tr>\n",
       "  </tbody>\n",
       "</table>\n",
       "<p>532 rows × 32 columns</p>\n",
       "</div>"
      ],
      "text/plain": [
       "           id diagnosis  radius_mean  texture_mean  perimeter_mean  area_mean  \\\n",
       "1      842517         M        20.57         17.77          132.90     1326.0   \n",
       "2    84300903         M        19.69         21.25          130.00     1203.0   \n",
       "4    84358402         M        20.29         14.34          135.10     1297.0   \n",
       "5      843786         M        12.45         15.70           82.57      477.1   \n",
       "6      844359         M        18.25         19.98          119.60     1040.0   \n",
       "..        ...       ...          ...           ...             ...        ...   \n",
       "561    925311         B        11.20         29.37           70.67      386.0   \n",
       "562    925622         M        15.22         30.62          103.40      716.9   \n",
       "565    926682         M        20.13         28.25          131.20     1261.0   \n",
       "566    926954         M        16.60         28.08          108.30      858.1   \n",
       "568     92751         B         7.76         24.54           47.92      181.0   \n",
       "\n",
       "     smoothness_mean  compactness_mean  concavity_mean  concave points_mean  \\\n",
       "1            0.08474           0.07864         0.08690              0.07017   \n",
       "2            0.10960           0.15990         0.19740              0.12790   \n",
       "4            0.10030           0.13280         0.19800              0.10430   \n",
       "5            0.12780           0.17000         0.15780              0.08089   \n",
       "6            0.09463           0.10900         0.11270              0.07400   \n",
       "..               ...               ...             ...                  ...   \n",
       "561          0.07449           0.03558         0.00000              0.00000   \n",
       "562          0.10480           0.20870         0.25500              0.09429   \n",
       "565          0.09780           0.10340         0.14400              0.09791   \n",
       "566          0.08455           0.10230         0.09251              0.05302   \n",
       "568          0.05263           0.04362         0.00000              0.00000   \n",
       "\n",
       "     ...  radius_worst  texture_worst  perimeter_worst  area_worst  \\\n",
       "1    ...        24.990          23.41           158.80      1956.0   \n",
       "2    ...        23.570          25.53           152.50      1709.0   \n",
       "4    ...        22.540          16.67           152.20      1575.0   \n",
       "5    ...        15.470          23.75           103.40       741.6   \n",
       "6    ...        22.880          27.66           153.20      1606.0   \n",
       "..   ...           ...            ...              ...         ...   \n",
       "561  ...        11.920          38.30            75.19       439.6   \n",
       "562  ...        17.520          42.79           128.70       915.0   \n",
       "565  ...        23.690          38.25           155.00      1731.0   \n",
       "566  ...        18.980          34.12           126.70      1124.0   \n",
       "568  ...         9.456          30.37            59.16       268.6   \n",
       "\n",
       "     smoothness_worst  compactness_worst  concavity_worst  \\\n",
       "1             0.12380            0.18660           0.2416   \n",
       "2             0.14440            0.42450           0.4504   \n",
       "4             0.13740            0.20500           0.4000   \n",
       "5             0.17910            0.52490           0.5355   \n",
       "6             0.14420            0.25760           0.3784   \n",
       "..                ...                ...              ...   \n",
       "561           0.09267            0.05494           0.0000   \n",
       "562           0.14170            0.79170           1.1700   \n",
       "565           0.11660            0.19220           0.3215   \n",
       "566           0.11390            0.30940           0.3403   \n",
       "568           0.08996            0.06444           0.0000   \n",
       "\n",
       "     concave points_worst  symmetry_worst  fractal_dimension_worst  \n",
       "1                  0.1860          0.2750                  0.08902  \n",
       "2                  0.2430          0.3613                  0.08758  \n",
       "4                  0.1625          0.2364                  0.07678  \n",
       "5                  0.1741          0.3985                  0.12440  \n",
       "6                  0.1932          0.3063                  0.08368  \n",
       "..                    ...             ...                      ...  \n",
       "561                0.0000          0.1566                  0.05905  \n",
       "562                0.2356          0.4089                  0.14090  \n",
       "565                0.1628          0.2572                  0.06637  \n",
       "566                0.1418          0.2218                  0.07820  \n",
       "568                0.0000          0.2871                  0.07039  \n",
       "\n",
       "[532 rows x 32 columns]"
      ]
     },
     "execution_count": 17,
     "metadata": {},
     "output_type": "execute_result"
    }
   ],
   "source": [
    "# Verinin son hali aşağıdaki gibidir. 37 satır silindi. \n",
    "# Bundan sonraki örnekte de aynı 3 kolon üzerinden devam\n",
    "# edileceği için kaybolan diğer değerler için yeni bir dataframe oluşturulmadı.\n",
    "data"
   ]
  },
  {
   "cell_type": "markdown",
   "metadata": {},
   "source": [
    "Öncelikle kanserli bir hücrede radius, area ve compactness ne demektir bunları araştırdım.\n",
    "\n",
    "- Radius(tümör yarıçapı) kanserli hücrenin yarı çapı.\n",
    "- Area(tümör alanı), kanserli hücrenin uzunluğu ve maksimum derinliğinin çarpımı. *Kaynak: https://www.ncbi.nlm.nih.gov/pmc/articles/PMC5768476/#:~:text=The%20tumor%20area%20was%20defined,value%20%3C%200.05%20was%20considered%20significant.*\n",
    "- Compactness(tümör yoğunluğu), kanserli bölgenin hacim ve yüzey alanı. *Kaynak: https://www.ncbi.nlm.nih.gov/pmc/articles/PMC5352371/*\n",
    "\n",
    "Bulduğum sonuçlara göre:\n",
    "- Bu veri seti için, bir kanser hücresi hesapladığım çap, alan ve yoğunluk değerlerine sahip olmalıdır denebilir.\n",
    "- 3 kolon için de hesapladığım lower outlier değerleri o kolonlardaki minimum değerlerden küçük çıktı. Bu da belirli bir minimumun altında kalan değerler kanserli hücre olarak değerlendirilmiyor anlamına gelebilir.\n",
    "- Higher outlier değerleri sonucu atılan satırlar bir kanser hücresinin o kadar büyük olamayacağı, bu dataframe için örnekse kanser hücresi olmayan bir dokunun kanser hücresi olarak hesaplandığı anlamına gelebilir."
   ]
  },
  {
   "cell_type": "markdown",
   "metadata": {},
   "source": [
    "# 3. Soru"
   ]
  },
  {
   "cell_type": "code",
   "execution_count": 18,
   "metadata": {},
   "outputs": [],
   "source": [
    "# Korelasyon ve kovaryans işlemleri için 3 kolonu birleştirir.\n",
    "three_columns_together = data[[\"radius_mean\",\"area_mean\",\"compactness_mean\"]]"
   ]
  },
  {
   "cell_type": "code",
   "execution_count": 19,
   "metadata": {},
   "outputs": [
    {
     "data": {
      "text/html": [
       "<div>\n",
       "<style scoped>\n",
       "    .dataframe tbody tr th:only-of-type {\n",
       "        vertical-align: middle;\n",
       "    }\n",
       "\n",
       "    .dataframe tbody tr th {\n",
       "        vertical-align: top;\n",
       "    }\n",
       "\n",
       "    .dataframe thead th {\n",
       "        text-align: right;\n",
       "    }\n",
       "</style>\n",
       "<table border=\"1\" class=\"dataframe\">\n",
       "  <thead>\n",
       "    <tr style=\"text-align: right;\">\n",
       "      <th></th>\n",
       "      <th>radius_mean</th>\n",
       "      <th>area_mean</th>\n",
       "      <th>compactness_mean</th>\n",
       "    </tr>\n",
       "  </thead>\n",
       "  <tbody>\n",
       "    <tr>\n",
       "      <th>radius_mean</th>\n",
       "      <td>1.000000</td>\n",
       "      <td>0.992208</td>\n",
       "      <td>0.430194</td>\n",
       "    </tr>\n",
       "    <tr>\n",
       "      <th>area_mean</th>\n",
       "      <td>0.992208</td>\n",
       "      <td>1.000000</td>\n",
       "      <td>0.429030</td>\n",
       "    </tr>\n",
       "    <tr>\n",
       "      <th>compactness_mean</th>\n",
       "      <td>0.430194</td>\n",
       "      <td>0.429030</td>\n",
       "      <td>1.000000</td>\n",
       "    </tr>\n",
       "  </tbody>\n",
       "</table>\n",
       "</div>"
      ],
      "text/plain": [
       "                  radius_mean  area_mean  compactness_mean\n",
       "radius_mean          1.000000   0.992208          0.430194\n",
       "area_mean            0.992208   1.000000          0.429030\n",
       "compactness_mean     0.430194   0.429030          1.000000"
      ]
     },
     "execution_count": 19,
     "metadata": {},
     "output_type": "execute_result"
    }
   ],
   "source": [
    "three_columns_together.corr()"
   ]
  },
  {
   "cell_type": "code",
   "execution_count": 20,
   "metadata": {},
   "outputs": [
    {
     "data": {
      "text/plain": [
       "<AxesSubplot:>"
      ]
     },
     "execution_count": 20,
     "metadata": {},
     "output_type": "execute_result"
    },
    {
     "data": {
      "image/png": "[encoded data removed]",
      "text/plain": [
       "<Figure size 432x288 with 2 Axes>"
      ]
     },
     "metadata": {
      "needs_background": "light"
     },
     "output_type": "display_data"
    }
   ],
   "source": [
    "sns.heatmap(three_columns_together.corr(), annot=True, cmap='YlGnBu')"
   ]
  },
  {
   "cell_type": "markdown",
   "metadata": {},
   "source": [
    "- Bu sonuçlara göre tümör yarıçapı ve tümörün arasında pozitif yönde güçlü bir korelasyon vardır. Zaten bir şeyin yarıçapı artınca alanının da artmasını bekleriz.\n",
    "- Ama tümör yarıçapı ve tümör yoğunluğu veya tümör alanı ve yoğunluğu arasında pozitif yönde orta-altı bir korelasyon vardır. Tümör yoğunluğu ikinci soruda belirtildiği üzere yüzey alanı ve hacimle ilgilidir. Yarıçap ve alanın, yoğunlukla pozitif yönde korelasyon olacak kadar ilişkisi vardır ancak güçlü bir korelasyon kuracak kadar ilişkisi yoktur."
   ]
  },
  {
   "cell_type": "code",
   "execution_count": 31,
   "metadata": {
    "scrolled": true
   },
   "outputs": [
    {
     "data": {
      "text/html": [
       "<div>\n",
       "<style scoped>\n",
       "    .dataframe tbody tr th:only-of-type {\n",
       "        vertical-align: middle;\n",
       "    }\n",
       "\n",
       "    .dataframe tbody tr th {\n",
       "        vertical-align: top;\n",
       "    }\n",
       "\n",
       "    .dataframe thead th {\n",
       "        text-align: right;\n",
       "    }\n",
       "</style>\n",
       "<table border=\"1\" class=\"dataframe\">\n",
       "  <thead>\n",
       "    <tr style=\"text-align: right;\">\n",
       "      <th></th>\n",
       "      <th>radius_mean</th>\n",
       "      <th>area_mean</th>\n",
       "      <th>compactness_mean</th>\n",
       "    </tr>\n",
       "  </thead>\n",
       "  <tbody>\n",
       "    <tr>\n",
       "      <th>radius_mean</th>\n",
       "      <td>0.869812</td>\n",
       "      <td>78.893656</td>\n",
       "      <td>0.005558</td>\n",
       "    </tr>\n",
       "    <tr>\n",
       "      <th>area_mean</th>\n",
       "      <td>78.893656</td>\n",
       "      <td>7268.633744</td>\n",
       "      <td>0.506670</td>\n",
       "    </tr>\n",
       "    <tr>\n",
       "      <th>compactness_mean</th>\n",
       "      <td>0.005558</td>\n",
       "      <td>0.506670</td>\n",
       "      <td>0.000192</td>\n",
       "    </tr>\n",
       "  </tbody>\n",
       "</table>\n",
       "</div>"
      ],
      "text/plain": [
       "                  radius_mean    area_mean  compactness_mean\n",
       "radius_mean          0.869812    78.893656          0.005558\n",
       "area_mean           78.893656  7268.633744          0.506670\n",
       "compactness_mean     0.005558     0.506670          0.000192"
      ]
     },
     "execution_count": 31,
     "metadata": {},
     "output_type": "execute_result"
    }
   ],
   "source": [
    "covariance_matrix = three_columns_together.cov()/10\n",
    "covariance_matrix"
   ]
  },
  {
   "cell_type": "code",
   "execution_count": 30,
   "metadata": {},
   "outputs": [
    {
     "data": {
      "text/plain": [
       "<AxesSubplot:>"
      ]
     },
     "execution_count": 30,
     "metadata": {},
     "output_type": "execute_result"
    },
    {
     "data": {
      "image/png": "[encoded data removed]",
      "text/plain": [
       "<Figure size 432x288 with 2 Axes>"
      ]
     },
     "metadata": {
      "needs_background": "light"
     },
     "output_type": "display_data"
    }
   ],
   "source": [
    "sns.heatmap(covariance_matrix, annot=True, cmap='YlGnBu')"
   ]
  },
  {
   "cell_type": "code",
   "execution_count": null,
   "metadata": {},
   "outputs": [],
   "source": []
  },
  {
   "cell_type": "markdown",
   "metadata": {},
   "source": [
    "### --------------------------------------------------------------------------------------------------------------------------------------------------------------"
   ]
  },
  {
   "cell_type": "markdown",
   "metadata": {},
   "source": [
    "Korelasyon analizi, iki değişken arasında ilişki olup olmadığını, ilişki varsa ilişkinin yönünü ve kuvvetini belirlemek için yapılan istatiksel bir analizdir. Parametrik ve Non-parametrik olarak 2'ye ayrılır.\n",
    "\n",
    "- Pearson Correlation Coefficient, normal dağılım gösteren nicel değişkenler arasındaki ilişkiyi hesaplamak için kullanılır.\n",
    "- Spearmen Rank Correlation, değişkenler normal dağılmadığı durumlarda, iki değişken (sıralı, kesikli, sürekli) arasındaki ilişkiyi hesaplamak için kullanılır."
   ]
  },
  {
   "cell_type": "code",
   "execution_count": 23,
   "metadata": {},
   "outputs": [
    {
     "data": {
      "text/html": [
       "<img src=\"images/correlations.png\" width=\"500\" height=\"200\"/>"
      ],
      "text/plain": [
       "<IPython.core.display.Image object>"
      ]
     },
     "execution_count": 23,
     "metadata": {},
     "output_type": "execute_result"
    }
   ],
   "source": [
    "Image(url= \"images/correlations.png\", width=500, height=200)"
   ]
  },
  {
   "cell_type": "markdown",
   "metadata": {},
   "source": [
    "Pearson Correlation Coefficient, iki rastgele değişkenin birbiri arasındaki lineer ilişkiyi ölçer. Sonuçlar +1 ve -1 arasında değer alır ve anlamları şöyledir:\n",
    "- +1 - Complete positive correlation\n",
    "- +0.8 - Strong positive correlation\n",
    "- +0.6 - Moderate positive correlation\n",
    "- 0 - no correlation whatsoever\n",
    "- -0.6 - Moderate negative correlation\n",
    "- -0.8 - Strong negative correlation\n",
    "- -1 - Complete negative correlation"
   ]
  },
  {
   "cell_type": "code",
   "execution_count": 24,
   "metadata": {},
   "outputs": [
    {
     "name": "stdout",
     "output_type": "stream",
     "text": [
      "Radius_mean ve area_mean arasındaki korelasyon: 0.9922083377314348\n",
      "Radius_mean ve compactness_mean arasındaki korelasyon: 0.43019437960535334\n",
      "Area_mean ve compactness_mean arasındaki korelasyon: 0.4290302483015843\n"
     ]
    }
   ],
   "source": [
    "#pearson hesaplaması\n",
    "from scipy.stats import pearsonr\n",
    "corr1,_ = pearsonr(data[\"radius_mean\"],data[\"area_mean\"])\n",
    "corr2,_ = pearsonr(data[\"radius_mean\"],data[\"compactness_mean\"])\n",
    "corr3,_ = pearsonr(data[\"area_mean\"],data[\"compactness_mean\"])\n",
    "\n",
    "print(f\"Radius_mean ve area_mean arasındaki korelasyon: {corr1}\")\n",
    "print(f\"Radius_mean ve compactness_mean arasındaki korelasyon: {corr2}\")\n",
    "print(f\"Area_mean ve compactness_mean arasındaki korelasyon: {corr3}\")"
   ]
  },
  {
   "cell_type": "markdown",
   "metadata": {},
   "source": [
    "İlk yapılan korelasyon işlemine benzer bir sonuç çıkmıştır. Pearson Korelasyonu'na göre yarıçap ve alan arasındaki korelasyon \"Strong positive correlation\", yarıçap-alan ve alan-yoğunluk arasındaki korelasyon \"Moderate positive correlation\" altı bir korelasyondur."
   ]
  },
  {
   "cell_type": "markdown",
   "metadata": {},
   "source": [
    "### ------------------------------------------------------------------------------------------------------------------------------------------------------------"
   ]
  },
  {
   "cell_type": "code",
   "execution_count": 33,
   "metadata": {},
   "outputs": [
    {
     "name": "stdout",
     "output_type": "stream",
     "text": [
      "Radius_mean ve area_mean arasındaki korelasyon: 0.9995549643732499\n",
      "Radius_mean ve compactness_mean arasındaki korelasyon: 0.44400701999204684\n",
      "Area_mean ve compactness_mean arasındaki korelasyon: 0.43508182254130934\n"
     ]
    }
   ],
   "source": [
    "#spearman hesaplaması\n",
    "from scipy.stats import spearmanr\n",
    "spearman1_rho,_ = spearmanr(data[\"radius_mean\"],data[\"area_mean\"])\n",
    "spearman2_rho,_ = spearmanr(data[\"radius_mean\"],data[\"compactness_mean\"])\n",
    "spearman3_rho,_ = spearmanr(data[\"area_mean\"],data[\"compactness_mean\"])\n",
    "\n",
    "print(f\"Radius_mean ve area_mean arasındaki korelasyon: {spearman1_rho}\")\n",
    "print(f\"Radius_mean ve compactness_mean arasındaki korelasyon: {spearman2_rho}\")\n",
    "print(f\"Area_mean ve compactness_mean arasındaki korelasyon: {spearman3_rho}\")"
   ]
  },
  {
   "cell_type": "markdown",
   "metadata": {},
   "source": [
    "### ----------------------------------------------------------------------------------------------------------------------------------------------------------"
   ]
  },
  {
   "cell_type": "markdown",
   "metadata": {},
   "source": [
    "- Effect size, bir popülasyondaki iki değişken arasındakiilişkinin kuvvetini ölçen bir istatistiki terimdir. Örnek olarak iki değişken arasındaki korelasyon, regresyon katsayısı, ortalama farkı, belirli bir olayın taşıdığı riskin ölçümlenmesi verilebilir.\n",
    "- Bilinen 50-100 arası birbirinden farklı effect size ölçümü vardır. \n",
    "- Ben bu soru için \"Cohen's d\" effect size kullanılacaktır.\n",
    "- Cohen's d, effect size'ın belki de en yaygın yöntemi olan \"Difference Family\" içerisinde yer alır. Sample'ların ortalama değerleri arasındaki farkı hesaplar. Daha sonra standartize etmek için çıkan fark standart sapmaya bölünür.\n",
    "- Çözüm için \"pingouin\" modülü kullanılacaktır."
   ]
  },
  {
   "cell_type": "code",
   "execution_count": 34,
   "metadata": {},
   "outputs": [
    {
     "name": "stdout",
     "output_type": "stream",
     "text": [
      "radius_mean ve area_mean arasındaki Cohen's d: -3.0868443790898326 \n",
      "radius_mean ve compactness_mean arasındaki Cohen's d: 6.49773181096793 \n",
      "area_mean ve compactness_mean arasındaki Cohen's d: 3.1581169958573723 \n"
     ]
    }
   ],
   "source": [
    "import pingouin as pg\n",
    "\n",
    "effect_size1 = pg.compute_effsize(data[\"radius_mean\"], data[\"area_mean\"], eftype='cohen')\n",
    "effect_size2 = pg.compute_effsize(data[\"radius_mean\"], data[\"compactness_mean\"], eftype='cohen')\n",
    "effect_size3 = pg.compute_effsize(data[\"area_mean\"], data[\"compactness_mean\"], eftype='cohen')\n",
    "\n",
    "print(f\"radius_mean ve area_mean arasındaki Cohen's d: {effect_size1} \")\n",
    "print(f\"radius_mean ve compactness_mean arasındaki Cohen's d: {effect_size2} \")\n",
    "print(f\"area_mean ve compactness_mean arasındaki Cohen's d: {effect_size3} \")"
   ]
  },
  {
   "cell_type": "markdown",
   "metadata": {},
   "source": [
    "Genel olarak, Cohen's d' nin daha düşük bir değeri, daha büyük bir örneklem büyüklüğünün gerekliliğini gösterir ve bunun tersi de geçerlidir.\n",
    "Etki büyüklüğünün en yaygın yorumu şu şekildedir:\n",
    "- Small effect size: d=0.2\n",
    "- Medium effect size: d=0.5\n",
    "- Large effect size: d=0.8"
   ]
  },
  {
   "cell_type": "markdown",
   "metadata": {},
   "source": [
    "# 4. Soru"
   ]
  },
  {
   "cell_type": "markdown",
   "metadata": {},
   "source": [
    "1) Renkli topları kutudan çekme soruları Bayes Teoremi'nin en klasik sorularındandır. Örneğin; elimizde 2 kutu var. Birinci kutuda 2 yeşil, 7 kırmızı top; ikinci kutuda4 yeşil, 3 kırmızı top olsun. Bir kişi rastgele bu iki kutunun birinden bir kırmızı top çekiyorsa topun 1. kutudan olma olasılığı hesaplanabilir.\n",
    "\n",
    "2) 100.000 kişide bir görülen nadir bir hastalık için yapılan bir testin rastgele kişiler seçildiğinde,hasta olan kişiler için doğruluğu %99 ve hasta olmayanlar için doğruluğu %99.5 ise bu bilgiler ışığında bir kişinin hasta veya pozitif testli olma olasılığı hesaplanabilir.\n",
    "\n",
    "3) Spam olduğu kabul edilen 2000 mesajın 250'sinde ve spam olarak görünmeyen 1000 mesajın 5'inde 'Rolex' kelimesini bulduğumuzu kabul edelim. 'Rolex' kelimesini içeren bir mesajın spam olma olasılığı ***Bayes Spam Filtreleri*** kullanılarak hesaplanabilir.\n",
    "\n",
    "4) 80 yaşının üzerindeki yaşlıların yüksekten düşerek ölme olasılığı Bayes Teoremi kullanılarak hesaplanabilir.\n",
    "\n",
    "5) Association Rule Mining algoritmaları bir örnek olabilir. Bu algoritmaya örnek olarak genellikle \"market sepeti uygulaması\" verilir. Buna göre bir kişinin yaptıkları alışverişlerdeki ürünler arasında birliktelikler bularak satın alma alışkanlıklarını çözümler."
   ]
  },
  {
   "cell_type": "markdown",
   "metadata": {},
   "source": [
    "# 5. Soru"
   ]
  },
  {
   "cell_type": "markdown",
   "metadata": {},
   "source": [
    "Bir olasılık dağılımı rastgele bir olayın ortaya çıkabilmesi için gereken değerleri ve olasılıkları tanımlar. Ayrık ve sürekli olasılık dağılımları olarak 2'ye ayrılır.\n",
    "\n",
    "### Ayrık Olasılık Dağılımları\n",
    "#### Poisson Dağılımı \n",
    "- Belirli bir süre içerisinde, belirli bir alanda, bir olayın meydana gelme sayısının olasılığını göstermek için kullanılabilir. \n",
    "- Genellikle belirli bir zaman aralığında meydana gelen **bağımsız** olayları anlamak için kullanılır.\n",
    "- Örneğin; bir saat aralığında belli bir internete gelen bağlantı sayısı, yarım saat içinde bir nakliyat deposuna yükleme-boşaltma için gelen kamyon sayısı vb.\n",
    "\n",
    "#### Logaritmik Dağılım\n",
    "- Kesikli bir olasılık dağılımıdır.\n",
    "- Temelini Taylor(Maclaurin) serisinden alır. Bu seride, bir fonksiyonun, o fonksiyonun terimlerinin tek bir noktadaki türev değerlerinden hesaplanan sonsuz toplamı şeklinde yazılması şeklindeki gösterimidir. Poisson dağılımı da bu seri üzerinden türetilmiştir.\n",
    "- Genellikle Log-Normal Dağılımla karıştırılır fakat aynı şey değillerdir. Log-normal dağılım sürekli bir dağılımdır ve  normal dağılım gösteren herhangi bir rassal değişken için tek-kuyruklu bir olasılık dağılımdır.\n",
    "\n",
    "### Sürekli Olasılık Dağılımları\n",
    "#### Normal Dağılım\n",
    "- Normal dağılım, tabiatta gerçekleşen ya da gözlenen pek çok olayın olasılık dağılımının normal dağılıma uygun olması sebebiyle “normal” dağılım olarak adlandırılmaktadır.\n",
    "-  Pek çok kesikli veya sürekli dağılım belli koşullar oluştuğunda normale dönüşür, bu nedenle de normal dağılım sıklıkla kullanılmaktadır. Çoklukla kullanılmasının sebebi merkezsel limit teoremidir. Bu teoreme göre birçok sayıda küçük bağımsız değişkenin toplamı olarak modeli kurulabilinen her değişkenin yaklaşık olarak normal dağılım göstermesidir.\n",
    "- Çan eğrisi de denmektedir.\n",
    "\n",
    "#### Gamma Dağılımı\n",
    "- Her zaman **pozitif** olan ve çarpık dağılımlara sahip sürekli değişkenleri modellemek için farklı bilim alanlarında yaygın olarak kullanılan bir olasılık dağılımıdır. \n",
    "- Gelecekteki olaylar meydana gelene kadar bekleme süresini tahmin etmek için kullanılır.\n",
    "- İki parametreli bir dağılımdır. Bu parametrelerden biri ölçek parametresi θ; diğeri ise şekil parametresi k olarak anılır. \n",
    "\n",
    "#### Weibull Dağılımı\n",
    "- Yaşama, hayatta kalım ve yetmezlikle yıkım süreçlerini inceleyen verilerin analizi alanında Weibull dağılımı çok elastik olup kolayca değiştirilebildiği için çok kullanılmaktadır.\n",
    "- Değişik parametre değerleri kullanılarak normal dağılım, üstel dağılım gibi çok popüler diğer istatistiksel dağılımların davranışların Weibull dağılımı kullanarak aynen taklid etme imkânı bulunmaktadır."
   ]
  }
 ],
 "metadata": {
  "kernelspec": {
   "display_name": "Python 3",
   "language": "python",
   "name": "python3"
  },
  "language_info": {
   "codemirror_mode": {
    "name": "ipython",
    "version": 3
   },
   "file_extension": ".py",
   "mimetype": "text/x-python",
   "name": "python",
   "nbconvert_exporter": "python",
   "pygments_lexer": "ipython3",
   "version": "3.7.6"
  }
 },
 "nbformat": 4,
 "nbformat_minor": 4
}
